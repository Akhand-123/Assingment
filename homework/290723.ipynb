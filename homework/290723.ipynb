{
 "cells": [
  {
   "cell_type": "markdown",
   "id": "c183366c",
   "metadata": {},
   "source": [
    "### 1.Create a python function that takes a list if integers as input and returns the sum of all positive integers in the list."
   ]
  },
  {
   "cell_type": "code",
   "execution_count": 2,
   "id": "5999eead",
   "metadata": {},
   "outputs": [
    {
     "name": "stdout",
     "output_type": "stream",
     "text": [
      "-2 -5 12 25 56\n",
      "[-2, -5, 12, 25, 56]\n",
      "93\n"
     ]
    }
   ],
   "source": [
    "def func(l):\n",
    "    sum = 0\n",
    "    for i in l:\n",
    "        if i>0:\n",
    "            sum +=i\n",
    "    return sum\n",
    "l = list(map(int,input().split()))\n",
    "res = func(l)\n",
    "print(l)\n",
    "print(res)"
   ]
  },
  {
   "cell_type": "markdown",
   "id": "ef52cd2c",
   "metadata": {},
   "source": [
    "### 2 Write a python program that takes a list of words as input and return a new list containing only the words that start with a vowel."
   ]
  },
  {
   "cell_type": "code",
   "execution_count": 19,
   "id": "29fae82c",
   "metadata": {},
   "outputs": [
    {
     "name": "stdout",
     "output_type": "stream",
     "text": [
      "Input a list of element sepearted by whitespace\n",
      "python akhand even india java\n",
      "New string is : ['akhand', 'even', 'india']\n"
     ]
    }
   ],
   "source": [
    "import re\n",
    "def func(l):\n",
    "    vowels = ['a','e','i','o','u']\n",
    "    new_list = []\n",
    "    for i in l:\n",
    "        for j in range(len(i)):\n",
    "            if i[0] in vowels:\n",
    "                new_list.append(i)\n",
    "                break\n",
    "    return new_list\n",
    "print(\"Input a list of element sepearted by whitespace\")\n",
    "l = list(map(str,input().split()))\n",
    "res = func(l)\n",
    "print(f\"New string is : {res}\")\n",
    "            "
   ]
  },
  {
   "cell_type": "markdown",
   "id": "627c35cd",
   "metadata": {},
   "source": [
    "### 3.Create a python function that takes a list of numbers as input and returns the largest even number in the list."
   ]
  },
  {
   "cell_type": "code",
   "execution_count": 9,
   "id": "9cd54eca",
   "metadata": {},
   "outputs": [
    {
     "name": "stdout",
     "output_type": "stream",
     "text": [
      "Input a list of element sepearted by whitespace\n",
      "1 2 67 89 56\n",
      "So the largest even no. in the list is 56\n"
     ]
    }
   ],
   "source": [
    "def func(l):\n",
    "    max_num = 0\n",
    "    for i in l:\n",
    "        if i>max_num and i%2==0:\n",
    "            max_num=i\n",
    "    return max_num\n",
    "print(\"Input a list of element sepearted by whitespace\")\n",
    "l = list(map(int,input().split()))\n",
    "res = func(l)\n",
    "print(f\"So the largest even no. in the list is {res}\")"
   ]
  },
  {
   "cell_type": "markdown",
   "id": "b7752e9c",
   "metadata": {},
   "source": [
    "### 4.Write a python program that takes two strings is an anagram of the other."
   ]
  },
  {
   "cell_type": "code",
   "execution_count": 5,
   "id": "82c949e2",
   "metadata": {},
   "outputs": [
    {
     "name": "stdout",
     "output_type": "stream",
     "text": [
      "Enter the first string : abcd\n",
      "Enter the second string : dcba\n",
      "Both are Anagram\n"
     ]
    }
   ],
   "source": [
    "def check_anagram(l1,l2):\n",
    "    if sorted(l1) == sorted(l2):\n",
    "        return (\"Both are Anagram\")\n",
    "    else:\n",
    "        return \"Not an Anagram\"\n",
    "mystr1 = input(\"Enter the first string : \").lower()\n",
    "mystr2 = input(\"Enter the second string : \").lower()\n",
    "res = check_anagram(mystr1,mystr2)\n",
    "print(res)"
   ]
  },
  {
   "cell_type": "markdown",
   "id": "0e8de57c",
   "metadata": {},
   "source": [
    "### Create a python function that takes a list of strings as input and returns a new containing only the strings with the maximum length."
   ]
  },
  {
   "cell_type": "code",
   "execution_count": 15,
   "id": "24402ffc",
   "metadata": {},
   "outputs": [
    {
     "name": "stdout",
     "output_type": "stream",
     "text": [
      "Enter element in the list with seperated whitespace\n",
      "python java php programming ruby\n",
      "Maximum length of string in the list is : programming\n"
     ]
    }
   ],
   "source": [
    "def func(l):\n",
    "    max_len = 0\n",
    "    for i in range(len(l)):\n",
    "        if len(l[i])>max_len:\n",
    "            max_len = len(l[i])\n",
    "            a = l[i]\n",
    "    return a\n",
    "print(\"Enter element in the list with seperated whitespace\")\n",
    "l = list(map(str, input().split()))\n",
    "res = func(l)\n",
    "print(f\"Maximum length of string in the list is : {res}\")\n",
    "        \n",
    "    "
   ]
  },
  {
   "cell_type": "code",
   "execution_count": null,
   "id": "2887969d",
   "metadata": {},
   "outputs": [],
   "source": []
  }
 ],
 "metadata": {
  "kernelspec": {
   "display_name": "Python 3 (ipykernel)",
   "language": "python",
   "name": "python3"
  },
  "language_info": {
   "codemirror_mode": {
    "name": "ipython",
    "version": 3
   },
   "file_extension": ".py",
   "mimetype": "text/x-python",
   "name": "python",
   "nbconvert_exporter": "python",
   "pygments_lexer": "ipython3",
   "version": "3.9.6"
  }
 },
 "nbformat": 4,
 "nbformat_minor": 5
}
